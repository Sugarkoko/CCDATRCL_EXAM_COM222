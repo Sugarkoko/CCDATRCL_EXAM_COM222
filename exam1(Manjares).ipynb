{
  "cells": [
    {
      "cell_type": "markdown",
      "metadata": {
        "colab_type": "text",
        "id": "view-in-github"
      },
      "source": [
        "<a href=\"https://colab.research.google.com/github/robitussin/CCDATRCL_EXAM/blob/main/exam1.ipynb\" target=\"_parent\"><img src=\"https://colab.research.google.com/assets/colab-badge.svg\" alt=\"Open In Colab\"/></a>"
      ]
    },
    {
      "cell_type": "markdown",
      "metadata": {
        "id": "yaz2B0KGFehP"
      },
      "source": [
        "# Midterm Exam 💛💙"
      ]
    },
    {
      "cell_type": "markdown",
      "metadata": {
        "id": "_DmK1ONEFehQ"
      },
      "source": [
        "**Instructions** ❗️❗️\n",
        "\n",
        "❌ Do not remove or modify the notebook **sections**, **subsections**, **exam questions** or **any text** in this python notebook\n",
        "\n",
        "✔️ Put your answer in the designated cells below each question"
      ]
    },
    {
      "cell_type": "markdown",
      "metadata": {
        "id": "TMCAXKWCFehR"
      },
      "source": [
        "## Search"
      ]
    },
    {
      "cell_type": "code",
      "execution_count": 988,
      "metadata": {
        "id": "Fy8nEBRRFehR"
      },
      "outputs": [],
      "source": [
        "def linearSearch(my_list, number):\n",
        "\n",
        "    index = 0\n",
        "\n",
        "    for i in my_list:\n",
        "\n",
        "        if my_list[index] == number:\n",
        "            return index\n",
        "\n",
        "        index = index + 1\n",
        "\n",
        "    return -1"
      ]
    },
    {
      "cell_type": "markdown",
      "metadata": {
        "id": "AjAevpueFehS"
      },
      "source": [
        "1. Using **linear search**, write a `findLargestIncrease()` function to find the largest increase in value between two adjacent numbers in your student number `(10 points)`\n",
        "\n",
        "    **Example:**\n",
        "\n",
        "    student_number = [2,0,2,2,6,2,5,1,9,3]\n",
        "\n",
        "    **Expected Output:**\n",
        "\n",
        "    findLargestIncrease(student_number)\n",
        "\n",
        "    Output: Between 1 and 9\n",
        "\n",
        "    **Explanation:**\n",
        "\n",
        "    From this student_number, the largest increase happened from number 1 to number 9"
      ]
    },
    {
      "cell_type": "code",
      "execution_count": 989,
      "metadata": {
        "id": "JE8nEfyJFehS"
      },
      "outputs": [
        {
          "name": "stdout",
          "output_type": "stream",
          "text": [
            "Output: Between 0 and 7\n"
          ]
        }
      ],
      "source": [
        "def findLargestIncrease(student_number):\n",
        "    max_increase = 0\n",
        "    low = -1\n",
        "    high = -1\n",
        "\n",
        "    for i in range(len(student_number) - 1):\n",
        "        increase = student_number[i + 1] - student_number[i]\n",
        "\n",
        "        if increase > max_increase:\n",
        "            max_increase = increase\n",
        "            low = i\n",
        "            high = i + 1\n",
        "            \n",
        "    if max_increase > 0:\n",
        "        return f\"Between {student_number[low]} and {student_number[high]}\"\n",
        "    else:\n",
        "        return \"No increase found\"\n",
        "\n",
        "student_number=[2,0,2,2,1,0,7,7,6,5]\n",
        "\n",
        "result = findLargestIncrease(student_number)\n",
        "print(\"Output:\", result)\n"
      ]
    },
    {
      "cell_type": "markdown",
      "metadata": {
        "id": "nMyr1fNyFehS"
      },
      "source": [
        "2. Using **linear search**, write a `findLargestDecrease()` function to find the largest decrease in value between two adjacent numbers in your student number `(10 points)`\n",
        "\n",
        "    **Example:**\n",
        "\n",
        "    student_number = [2,0,2,2,6,2,5,1,9,3]\n",
        "\n",
        "    **Expected Output:**\n",
        "\n",
        "    findLargestDecrease(student_number)\n",
        "\n",
        "    Output: Between 9 and 3\n",
        "\n",
        "    **Explanation:**\n",
        "\n",
        "    From this student_number, the largest decrease happened from number 9 to number 3"
      ]
    },
    {
      "cell_type": "code",
      "execution_count": 990,
      "metadata": {
        "id": "bfMfQVbVFehS"
      },
      "outputs": [
        {
          "name": "stdout",
          "output_type": "stream",
          "text": [
            "Output: Between 2 and 0\n"
          ]
        }
      ],
      "source": [
        "def findLargestDecrease(student_number):\n",
        "    max_decrease = 0\n",
        "    low = -1\n",
        "    high = -1\n",
        "\n",
        "    for i in range(len(student_number) - 1):\n",
        "        decrease = student_number[i] - student_number[i + 1]\n",
        "\n",
        "        if decrease > max_decrease:\n",
        "            max_decrease = decrease\n",
        "            low = i\n",
        "            high = i + 1\n",
        "\n",
        "    if max_decrease > 0:\n",
        "        return f\"Between {student_number[low]} and {student_number[high]}\"\n",
        "    else:\n",
        "        return \"No decrease found\"\n",
        "    \n",
        "student_number=[2,0,2,2,1,0,7,7,6,5]\n",
        "\n",
        "result = findLargestDecrease(student_number)\n",
        "print(\"Output:\", result)\n"
      ]
    },
    {
      "cell_type": "markdown",
      "metadata": {
        "id": "NtKSQn9QFehS"
      },
      "source": [
        "## Linked List"
      ]
    },
    {
      "cell_type": "code",
      "execution_count": 991,
      "metadata": {
        "id": "0HP5zyJcFehS"
      },
      "outputs": [],
      "source": [
        "class Node:\n",
        "\n",
        "    def __init__(self, data):\n",
        "        self.data = data\n",
        "        self.next = None  # null"
      ]
    },
    {
      "cell_type": "code",
      "execution_count": 992,
      "metadata": {
        "id": "A-8Uefe7FehS"
      },
      "outputs": [],
      "source": [
        "class LinkedList:\n",
        "\n",
        "    def __init__(self):\n",
        "        self.head = None\n",
        "\n",
        "    def traverse(self, node):\n",
        "        while node:\n",
        "            print(node.data, end=\" -> \")\n",
        "            node = node.next\n",
        "\n",
        "def is_prime(num):\n",
        "    if num < 2:\n",
        "        return False\n",
        "    for i in range(2, int(num**0.5) + 1):\n",
        "        if num % i == 0:\n",
        "            return False\n",
        "    return True\n",
        "\n",
        "def display(self):\n",
        "        current = self.head\n",
        "        while current is not None:\n",
        "            print(current.data, end = ' ')\n",
        "            current = current.next"
      ]
    },
    {
      "cell_type": "markdown",
      "metadata": {
        "id": "uPgIJJuSFehT"
      },
      "source": [
        "**Instructions** ❗️❗️\n",
        "\n",
        "Use the pre-defined linked list class/functions to create a linked list"
      ]
    },
    {
      "cell_type": "markdown",
      "metadata": {
        "id": "WIwpW7Q2FehT"
      },
      "source": [
        "1. Create a Singly linked list named **num_list** and print all of its elements. `(5 points)`\n",
        "\n",
        "- **num_list** should contain all digits of your student number.\n",
        "\n",
        "    **Expected Output:**\n",
        "\n",
        "    print(num_list)\n",
        "\n",
        "    [2, 0, 2, 2, 1, 2, 3, 4, 5, 6]"
      ]
    },
    {
      "cell_type": "code",
      "execution_count": 993,
      "metadata": {
        "id": "Lihv0JPiFehT"
      },
      "outputs": [
        {
          "name": "stdout",
          "output_type": "stream",
          "text": [
            "2 -> 0 -> 2 -> 2 -> 1 -> 0 -> 7 -> 7 -> 6 -> 5 -> "
          ]
        }
      ],
      "source": [
        "# put your answer here\n",
        "\n",
        "num_list=LinkedList()\n",
        "\n",
        "num_list.head=Node(\"2\")\n",
        "node_1=Node(\"0\")\n",
        "node_2=Node(\"2\")\n",
        "node_3=Node(\"2\")\n",
        "node_4=Node(\"1\")\n",
        "node_5=Node(\"0\")\n",
        "node_6=Node(\"7\")\n",
        "node_7=Node(\"7\")\n",
        "node_8=Node(\"6\")\n",
        "node_9=Node(\"5\")\n",
        "\n",
        "num_list.head.next=node_1\n",
        "node_1.next=node_2\n",
        "node_2.next=node_3\n",
        "node_3.next=node_4\n",
        "node_4.next=node_5\n",
        "node_5.next=node_6\n",
        "node_6.next=node_7\n",
        "node_7.next=node_8\n",
        "node_8.next=node_9\n",
        "\n",
        "\n",
        "num_list.traverse(num_list.head)\n"
      ]
    },
    {
      "cell_type": "markdown",
      "metadata": {
        "id": "dqA2UYrYFehT"
      },
      "source": [
        "2. Write a `hasPrime()` function to test whether a prime number is in the last six digits of **num_list**. `(5 points)`\n",
        "\n",
        "- If a prime number is in the last six digits of **num_list**, the method should return **true**\n",
        "\n",
        "- If a prime number is not in the last six digits of **num_list**, the method should return **false**\n",
        "\n",
        "    **Expected Output:**\n",
        "\n",
        "    hasPrime(num_list)\n",
        "\n",
        "    True"
      ]
    },
    {
      "cell_type": "code",
      "execution_count": 994,
      "metadata": {
        "id": "GYwsQNz5FehT"
      },
      "outputs": [
        {
          "name": "stdout",
          "output_type": "stream",
          "text": [
            "True\n"
          ]
        }
      ],
      "source": [
        "# put your answer here\n",
        "def is_prime(num):\n",
        "    if num < 2:\n",
        "        return False\n",
        "    for i in range(2, int(num**0.5) + 1):\n",
        "        if num % i == 0:\n",
        "            return False\n",
        "    return True\n",
        "\n",
        "def hasPrime(linked_list):\n",
        "    # Start from the head of the linked list\n",
        "    current = linked_list.head\n",
        "\n",
        "    # Traverse to the last six nodes\n",
        "    for i in range(6):\n",
        "        if current is None:\n",
        "            return False\n",
        "        current = current.next\n",
        "\n",
        "    # Check if any of the last six numbers are prime\n",
        "    while current is not None:\n",
        "        if is_prime(int(current.data)):\n",
        "            return True\n",
        "        current = current.next\n",
        "\n",
        "    return False\n",
        "\n",
        "print(hasPrime(num_list))  "
      ]
    },
    {
      "cell_type": "markdown",
      "metadata": {
        "id": "5Qb0BOiwFehT"
      },
      "source": [
        "3. Write a `removeZeroes()` function to remove all occurrences of zeroes in **num_list**. `(5 points)`\n",
        "\n",
        "- If a zero is in **num_list**, return **num_list**\n",
        "\n",
        "- If there are no zeroes in **num_list**, return **\"no zeros found\"**\n",
        "\n",
        "    **Expected Output:**\n",
        "\n",
        "    removeZeroes(num_list)\n",
        "\n",
        "    [2, 2, 1, 2, 3, 4, 5, 6]"
      ]
    },
    {
      "cell_type": "code",
      "execution_count": 995,
      "metadata": {
        "id": "k1vAHUYuFehT"
      },
      "outputs": [
        {
          "name": "stdout",
          "output_type": "stream",
          "text": [
            "2 2 2 1 7 7 6 5 "
          ]
        }
      ],
      "source": [
        "# put your answer here\n",
        "def removeZeros(linked_list):\n",
        "    \n",
        "    prev = None\n",
        "    current = linked_list.head\n",
        "\n",
        "    \n",
        "    while current:\n",
        "        \n",
        "        if current.data == \"0\":\n",
        "            \n",
        "            if current == linked_list.head:\n",
        "                linked_list.head = current.next\n",
        "                current = current.next\n",
        "            else:\n",
        "                \n",
        "                prev.next = current.next\n",
        "                current = current.next\n",
        "        else:\n",
        "            prev = current\n",
        "            current = current.next\n",
        "\n",
        "removeZeros(num_list)       \n",
        "current = num_list.head\n",
        "while current:\n",
        "    print(current.data, end=\" \")\n",
        "    current = current.next"
      ]
    },
    {
      "cell_type": "markdown",
      "metadata": {
        "id": "SKAlpglNFehT"
      },
      "source": [
        "4. Insert a dash symbol between the 4th and 5th digit in **num_list**. `(5 points)`\n",
        "\n",
        "    **Expected Output:**\n",
        "\n",
        "    print(num_list)\n",
        "\n",
        "    [2, 0, 2, 2, \"-\", 1, 2, 3, 4, 5, 6]"
      ]
    },
    {
      "cell_type": "code",
      "execution_count": 996,
      "metadata": {
        "id": "vF7fimZ-FehT"
      },
      "outputs": [
        {
          "name": "stdout",
          "output_type": "stream",
          "text": [
            "2 0 2 2 - 1 0 7 7 6 5 "
          ]
        }
      ],
      "source": [
        "# put your answer here\n",
        "num_list=LinkedList()\n",
        "\n",
        "num_list.head=Node(\"2\")\n",
        "node_1=Node(\"0\")\n",
        "node_2=Node(\"2\")\n",
        "node_3=Node(\"2\")\n",
        "node_4=Node(\"1\")\n",
        "node_5=Node(\"0\")\n",
        "node_6=Node(\"7\")\n",
        "node_7=Node(\"7\")\n",
        "node_8=Node(\"6\")\n",
        "node_9=Node(\"5\")\n",
        "\n",
        "num_list.head.next=node_1\n",
        "node_1.next=node_2\n",
        "node_2.next=node_3\n",
        "node_3.next=node_4\n",
        "node_4.next=node_5\n",
        "node_5.next=node_6\n",
        "node_6.next=node_7\n",
        "node_7.next=node_8\n",
        "node_8.next=node_9\n",
        "\n",
        "def insertAfter(self, prev_node, new_data):\n",
        "\n",
        "        if prev_node is None:\n",
        "            print(\"The given previous node must inLinkedList.\")\n",
        "            return\n",
        "\n",
        "        new_node = Node(new_data)\n",
        "        new_node.next = prev_node.next\n",
        "        prev_node.next = new_node\n",
        "\n",
        "insertAfter(num_list, node_3, \"-\")\n",
        "display(num_list)\n",
        "\n"
      ]
    },
    {
      "cell_type": "markdown",
      "metadata": {
        "id": "KkC-LgdxFehT"
      },
      "source": [
        "## Stack"
      ]
    },
    {
      "cell_type": "code",
      "execution_count": 997,
      "metadata": {
        "id": "UYTqB1u_FehU"
      },
      "outputs": [],
      "source": [
        "# Creating a stack\n",
        "def create_stack():\n",
        "    stack = []\n",
        "    return stack\n",
        "\n",
        "\n",
        "def print_stack(stack):\n",
        "\n",
        "    if (check_empty(stack)):\n",
        "        return \"stack is empty\"\n",
        "\n",
        "    # Create a copy of the stack and reverse the elements\n",
        "    tempStack = stack.copy()\n",
        "    tempStack.reverse()\n",
        "\n",
        "    # Print all elements using a loop\n",
        "    for i in tempStack:\n",
        "        print(i)\n",
        "\n",
        "    # Delete the copy to free up memory\n",
        "    del tempStack\n",
        "\n",
        "# Creating an empty stack\n",
        "\n",
        "\n",
        "def check_empty(stack):\n",
        "    return len(stack) == 0\n",
        "\n",
        "\n",
        "# Adding items into the stack\n",
        "def push(stack, item):\n",
        "    stack.append(item)\n",
        "    print(\"pushed item: \" + item)\n",
        "\n",
        "\n",
        "# Removing an element from the stack\n",
        "def pop(stack):\n",
        "    if (check_empty(stack)):\n",
        "        return \"stack is empty\"\n",
        "\n",
        "    return stack.pop()\n",
        "\n",
        "\n",
        "def peek(stack):\n",
        "\n",
        "    # Use negative indexing to display the last element of the list\n",
        "    print(stack[-1])"
      ]
    },
    {
      "cell_type": "markdown",
      "metadata": {
        "id": "wLAQchs8FehU"
      },
      "source": [
        "**Instructions** ❗️❗️\n",
        "\n",
        "Use the pre-defined stack class/functions to create a stack"
      ]
    },
    {
      "cell_type": "markdown",
      "metadata": {
        "id": "37cg9BoCFehU"
      },
      "source": [
        "1. Create two (2) stacks named **name_stack** and **num_stack** `(5 points)`\n",
        "\n",
        "- **name_stack** should contain all letters of your first name.\n",
        "- **num_stack** should contain all digits of your student number.\n",
        "\n",
        "    **Expected Output:**\n",
        "\n",
        "    print(name_stack)\n",
        "\n",
        "    ['E', 'L', 'I', 'Z', 'E', 'R']\n",
        "\n",
        "    print(num_stack)\n",
        "\n",
        "    [2,0,2,2,1,2,3,4,5,6]"
      ]
    },
    {
      "cell_type": "code",
      "execution_count": 998,
      "metadata": {
        "id": "HlUIUQzQFehU"
      },
      "outputs": [
        {
          "name": "stdout",
          "output_type": "stream",
          "text": [
            "pushed item: C\n",
            "pushed item: H\n",
            "pushed item: R\n",
            "pushed item: I\n",
            "pushed item: S\n",
            "pushed item: T\n",
            "pushed item: I\n",
            "pushed item: A\n",
            "pushed item: N\n",
            "['C', 'H', 'R', 'I', 'S', 'T', 'I', 'A', 'N']\n",
            "pushed item: 2\n",
            "pushed item: 0\n",
            "pushed item: 2\n",
            "pushed item: 2\n",
            "pushed item: 1\n",
            "pushed item: 0\n",
            "pushed item: 7\n",
            "pushed item: 7\n",
            "pushed item: 6\n",
            "pushed item: 5\n",
            "['2', '0', '2', '2', '1', '0', '7', '7', '6', '5']\n"
          ]
        }
      ],
      "source": [
        "# put your answer here\n",
        "name_stack=create_stack()\n",
        "num_stack=create_stack()\n",
        "\n",
        "\n",
        "push(name_stack, \"C\")\n",
        "push(name_stack, \"H\")\n",
        "push(name_stack, \"R\")\n",
        "push(name_stack, \"I\")\n",
        "push(name_stack, \"S\")\n",
        "push(name_stack, \"T\")\n",
        "push(name_stack, \"I\")\n",
        "push(name_stack, \"A\")\n",
        "push(name_stack, \"N\")\n",
        "\n",
        "print(name_stack)\n",
        "\n",
        "push(num_stack, \"2\")\n",
        "push(num_stack, \"0\")\n",
        "push(num_stack, \"2\")\n",
        "push(num_stack, \"2\")\n",
        "push(num_stack, \"1\")\n",
        "push(num_stack, \"0\")\n",
        "push(num_stack, \"7\")\n",
        "push(num_stack, \"7\")\n",
        "push(num_stack, \"6\")\n",
        "push(num_stack, \"5\")\n",
        "\n",
        "print(num_stack)"
      ]
    },
    {
      "cell_type": "markdown",
      "metadata": {
        "id": "8cySe9LXFehU"
      },
      "source": [
        "2. Create a stack named **my_stack** that follows the following format: `(5 points)`\n",
        "\n",
        "- The first element should be the **5th digit in your student number**\n",
        "- The succeeding elements should be the letters of your **first name**\n",
        "- The last element should be the **last digit of your student number**\n",
        "\n",
        "    **Expected Output:**\n",
        "\n",
        "    my_stack = [1, E, L, I, Z, E, R, 6]"
      ]
    },
    {
      "cell_type": "code",
      "execution_count": 999,
      "metadata": {
        "id": "bEnCoAhjFehU"
      },
      "outputs": [
        {
          "name": "stdout",
          "output_type": "stream",
          "text": [
            "pushed item: 1\n",
            "pushed item: C\n",
            "pushed item: H\n",
            "pushed item: R\n",
            "pushed item: I\n",
            "pushed item: S\n",
            "pushed item: T\n",
            "pushed item: I\n",
            "pushed item: A\n",
            "pushed item: N\n",
            "pushed item: 5\n",
            "['1', 'C', 'H', 'R', 'I', 'S', 'T', 'I', 'A', 'N', '5']\n"
          ]
        }
      ],
      "source": [
        "# put your answer here\n",
        "my_stack= create_stack()\n",
        "fifth_digit=num_stack[4]\n",
        "last_digit=num_stack[-1]\n",
        "\n",
        "push(my_stack, fifth_digit)\n",
        "\n",
        "for i in name_stack:\n",
        "    push(my_stack, i)\n",
        "\n",
        "push(my_stack, last_digit)\n",
        "\n",
        "print(my_stack)"
      ]
    },
    {
      "cell_type": "markdown",
      "metadata": {
        "id": "8a8_KP5nFehU"
      },
      "source": [
        "3. Write a `verifyStack()` function that will take in `my_stack` and check if its format has been followed `(10 points)`\n",
        "\n",
        "- Return **True** if the format has been followed\n",
        "- Return **False** if the format was not followed\n",
        "- Verify the format by checking the contents of **my_stack** with **name_stack** and **num_stack**\n",
        "\n",
        "    **Expected Output:**\n",
        "\n",
        "    my_stack = [1, E, L, I, Z, E, R, 6]\n",
        "\n",
        "    verifyStack(my_stack)\n",
        "\n",
        "    True\n",
        "\n",
        "    my_stack = [1, S, L, I, Z, E, R, 7]\n",
        "\n",
        "    verifyStack(my_stack)\n",
        "\n",
        "    False"
      ]
    },
    {
      "cell_type": "code",
      "execution_count": 1000,
      "metadata": {
        "id": "RdANSxD0FehU"
      },
      "outputs": [
        {
          "name": "stdout",
          "output_type": "stream",
          "text": [
            "['1', 'C', 'H', 'R', 'I', 'S', 'T', 'I', 'A', 'N', '5']\n",
            "True\n",
            "['1', 'C', 'H', 'S', 'R', 'I', 'T', 'N', 'A', 'I', '7']\n",
            "False\n"
          ]
        }
      ],
      "source": [
        "def verifyStack(my_stack):\n",
        "    if (my_stack[0]) !=  (num_stack[4]):\n",
        "        return False\n",
        "        \n",
        "    if my_stack[1:-1]  != name_stack:\n",
        "        return False\n",
        "    \n",
        "    if (my_stack[-1]) != (num_stack[-1]):\n",
        "        return False\n",
        "    \n",
        "    else:\n",
        "        return True\n",
        "    \n",
        "print(my_stack)\n",
        "result1=verifyStack(my_stack)\n",
        "print(result1)\n",
        "\n",
        "\n",
        "my_stack2= create_stack() \n",
        "my_stack2=[\"1\",\"C\",\"H\",\"S\",\"R\",\"I\",\"T\",\"N\",\"A\",\"I\",\"7\"]   \n",
        "print(my_stack2)\n",
        "result2=verifyStack(my_stack2)\n",
        "\n",
        "print(result2)"
      ]
    },
    {
      "cell_type": "markdown",
      "metadata": {
        "id": "UC5C64B2FehU"
      },
      "source": [
        "## Queue"
      ]
    },
    {
      "cell_type": "code",
      "execution_count": 1001,
      "metadata": {
        "id": "NJJ0j0LHFehU"
      },
      "outputs": [],
      "source": [
        "class Queue:\n",
        "    def __init__(self):\n",
        "        self.queue = []\n",
        "\n",
        "    # Add an element\n",
        "    def enqueue(self, item):\n",
        "        self.queue.append(item)\n",
        "\n",
        "    # Remove an element\n",
        "    def dequeue(self):\n",
        "        if len(self.queue) < 1:\n",
        "            return None\n",
        "        return self.queue.pop(0)\n",
        "\n",
        "    # Display  the queue\n",
        "    def display(self):\n",
        "        print(self.queue)\n",
        "\n",
        "    def size(self):\n",
        "        return len(self.queue)\n",
        "\n",
        "    def peek(self):\n",
        "        return self.queue[-1]\n",
        "    \n",
        "    "
      ]
    },
    {
      "cell_type": "markdown",
      "metadata": {
        "id": "80OekpbeFehV"
      },
      "source": [
        "**Instructions** ❗️❗️\n",
        "\n",
        "Use the pre-defined queue class/functions to create a Queue"
      ]
    },
    {
      "cell_type": "markdown",
      "metadata": {
        "id": "_Hf0OP5cFehV"
      },
      "source": [
        "1. Create a simple queue named **num_queue** `(5 points)`\n",
        "\n",
        "- **num_queue** should contain all digits of your student number.\n",
        "\n",
        "    **Expected Output:**\n",
        "\n",
        "    print(num_queue)\n",
        "\n",
        "    [2,0,2,2,1,2,3,4,5,6]"
      ]
    },
    {
      "cell_type": "code",
      "execution_count": 1002,
      "metadata": {
        "id": "_mgmE4ArFehV"
      },
      "outputs": [
        {
          "name": "stdout",
          "output_type": "stream",
          "text": [
            "[2, 0, 2, 2, 1, 0, 7, 7, 6, 5]\n"
          ]
        }
      ],
      "source": [
        "# put your answer here\n",
        "num_queue= Queue()\n",
        "num_queue.enqueue(2)\n",
        "num_queue.enqueue(0)\n",
        "num_queue.enqueue(2)\n",
        "num_queue.enqueue(2)\n",
        "num_queue.enqueue(1)\n",
        "num_queue.enqueue(0)\n",
        "num_queue.enqueue(7)\n",
        "num_queue.enqueue(7)\n",
        "num_queue.enqueue(6)\n",
        "num_queue.enqueue(5)\n",
        "\n",
        "num_queue.display()\n",
        "\n",
        "\n",
        "\n"
      ]
    },
    {
      "cell_type": "markdown",
      "metadata": {
        "id": "1pHG8t6DFehV"
      },
      "source": [
        "2. Write a `getMax()` or `getMin()` function for **num_queue** `(5 points)`\n",
        "\n",
        "- If your student number ends with an odd number, create a `getMax()` function that will return the largest number in **num_queue**\n",
        "- If your student number ends with an even number, create a `getMin()` function that will return the lowest number in **num_queue**\n",
        "\n",
        "    **Expected Output for getMax():**\n",
        "\n",
        "    getMax(num_queue)\n",
        "\n",
        "    6\n",
        "\n",
        "    **Expected Output for getMin():**\n",
        "\n",
        "    getMin(num_queue)\n",
        "\n",
        "    0"
      ]
    },
    {
      "cell_type": "code",
      "execution_count": 1003,
      "metadata": {
        "id": "itj2U610FehV"
      },
      "outputs": [
        {
          "name": "stdout",
          "output_type": "stream",
          "text": [
            "[2, 0, 2, 2, 1, 0, 7, 7, 6, 5]\n",
            "Max Value:  7\n"
          ]
        }
      ],
      "source": [
        "# put your answer here\n",
        "num_queue.display()\n",
        "\n",
        "def getMax(queue):\n",
        "    if not queue:\n",
        "        return None  \n",
        "    \n",
        "    max_value = queue.queue[0]\n",
        "\n",
        "    for item in queue.queue:\n",
        "        if item > max_value:\n",
        "            max_value = item\n",
        "\n",
        "    return max_value\n",
        "getMax(num_queue)\n",
        "\n",
        "print(\"Max Value: \", getMax(num_queue))\n"
      ]
    },
    {
      "cell_type": "markdown",
      "metadata": {
        "id": "YkgmP6GwFehV"
      },
      "source": [
        "3. Write a `getOdd()` or `getEven()` function for  **num_queue** `(5 points)`\n",
        "\n",
        "- If your student number ends with an **odd number**, create a `getOdd()` function that will return all odd numbers in **num_queue**\n",
        "- If your student number ends with an **even number**, create a `getEven()` function that will return all even numbers in **num_queue**\n",
        "\n",
        "    **Expected Output for getOdd():**\n",
        "\n",
        "    getOdd(num_queue)\n",
        "\n",
        "    [1, 3, 5]\n",
        "\n",
        "    **Expected Output for getEven():**\n",
        "\n",
        "    getEven(num_queue)\n",
        "\n",
        "    [0, 2, 4, 6]"
      ]
    },
    {
      "cell_type": "code",
      "execution_count": 1004,
      "metadata": {
        "id": "2Bc7E1zNFehV"
      },
      "outputs": [
        {
          "name": "stdout",
          "output_type": "stream",
          "text": [
            "[2, 0, 2, 2, 1, 0, 7, 7, 6, 5]\n",
            "odd numbers:  [1, 7, 7, 5]\n"
          ]
        }
      ],
      "source": [
        "# put your answer here\n",
        "num_queue.display()\n",
        "odd_numbers = []\n",
        "\n",
        "def getOdd(queue):\n",
        "    for x in queue.queue:\n",
        "     if x % 2 != 0:\n",
        "        odd_numbers.append(x)\n",
        "\n",
        "getOdd(num_queue)\n",
        "print(\"odd numbers: \", odd_numbers)"
      ]
    },
    {
      "cell_type": "markdown",
      "metadata": {
        "id": "kuzWF5g4FehV"
      },
      "source": [
        "4. Write a `removeDup()` function that will remove all duplicates in **num_queue** `(5 points)`\n",
        "\n",
        "    **Expected Output:**\n",
        "\n",
        "    removeDup(num_queue)\n",
        "\n",
        "    [2,0,1,3,4,5,6]"
      ]
    },
    {
      "cell_type": "code",
      "execution_count": 1005,
      "metadata": {
        "id": "I8LeQP8MFehY"
      },
      "outputs": [
        {
          "name": "stdout",
          "output_type": "stream",
          "text": [
            "Original queue:\n",
            "[2, 0, 2, 2, 1, 0, 7, 7, 6, 5]\n",
            "Queue with duplicates removed:\n",
            "[2, 0, 1, 7, 6, 5]\n"
          ]
        }
      ],
      "source": [
        "def removeDuplicates(queue):\n",
        "        unique_elements = set()\n",
        "        new_queue = Queue()\n",
        "\n",
        "        while queue.size() > 0:\n",
        "            item = queue.dequeue()\n",
        "            if item not in unique_elements:\n",
        "                unique_elements.add(item)\n",
        "                new_queue.enqueue(item)\n",
        "\n",
        "        queue.queue = new_queue.queue\n",
        "        return queue\n",
        "\n",
        "print(\"Original queue:\")\n",
        "num_queue.display()\n",
        "\n",
        "removeDuplicates(num_queue)\n",
        "\n",
        "print(\"Queue with duplicates removed:\")\n",
        "num_queue.display()"
      ]
    },
    {
      "cell_type": "markdown",
      "metadata": {
        "id": "LVfZTh8YFehZ"
      },
      "source": [
        "## Sort"
      ]
    },
    {
      "cell_type": "markdown",
      "metadata": {
        "id": "bm9lonfzFehZ"
      },
      "source": [
        "**Instructions** ❗️❗️\n",
        "\n",
        "Use the any sorting algoritms"
      ]
    },
    {
      "cell_type": "markdown",
      "metadata": {
        "id": "EJTlxhEdFehZ"
      },
      "source": [
        "1. Using any sorting algorithm, sort the **last 6 digits** of your student number in ascending order `(5 points)`\n",
        "\n",
        "    **Example:**\n",
        "\n",
        "    student_number = [2,0,2,2,6,2,5,1,3,4]\n",
        "\n",
        "    **Expected Output:**\n",
        "\n",
        "    print(student_number)\n",
        "\n",
        "    [2,0,2,2,1,2,3,4,5,6]\n"
      ]
    },
    {
      "cell_type": "code",
      "execution_count": 1006,
      "metadata": {},
      "outputs": [
        {
          "name": "stdout",
          "output_type": "stream",
          "text": [
            "[2, 0, 2, 2, 0, 1, 5, 6, 7, 7]\n"
          ]
        }
      ],
      "source": [
        "# put your answer here\n",
        "def bubbleSort(array):\n",
        "    # loop to access each array element\n",
        "    for i in range(len(array)):\n",
        "        # loop to compare array elements\n",
        "        for j in range(0, len(array) - i - 1):\n",
        "            # compare two adjacent elements\n",
        "            if array[j] > array[j + 1]:\n",
        "                # swapping elements if elements\n",
        "                # are not in the intended order\n",
        "                temp = array[j]\n",
        "                array[j] = array[j + 1]\n",
        "                array[j + 1] = temp\n",
        "                \n",
        "student_number=[2,0,2,2,1,0,7,7,6,5]\n",
        "\n",
        "\n",
        "last_6_digits = student_number[-6:]\n",
        "\n",
        "# Sort the last 6 digits using bubble sort\n",
        "bubbleSort(last_6_digits)\n",
        "\n",
        "# Merge the sorted last 6 digits with the remaining part\n",
        "sorted_student_number = student_number[:-6] + last_6_digits\n",
        "\n",
        "# Print the sorted student number\n",
        "print(sorted_student_number)"
      ]
    },
    {
      "cell_type": "markdown",
      "metadata": {
        "id": "sC2JZRZMFehZ"
      },
      "source": [
        "2. Using your student_number, separately sort the even numbers in **increasing order** and the odd numbers in **decreasing order** `(15 points)`\n",
        "\n",
        "    **Example:**\n",
        "\n",
        "    student_number = [2,0,2,2,1,2,3,4,5,6]\n",
        "\n",
        "    **Expected Output:**\n",
        "\n",
        "    print(student_number)\n",
        "\n",
        "    [0,2,2,2,2,4,6,5,3,1]"
      ]
    },
    {
      "cell_type": "code",
      "execution_count": 1007,
      "metadata": {
        "id": "hWOh_ohcFehZ"
      },
      "outputs": [
        {
          "name": "stdout",
          "output_type": "stream",
          "text": [
            "even:  [2, 0, 2, 2, 0, 6]\n",
            "odd:  [1, 7, 7, 5]\n",
            "[0, 0, 2, 2, 2, 6, 7, 7, 5, 1]\n"
          ]
        }
      ],
      "source": [
        "student_number=[2,0,2,2,1,0,7,7,6,5]\n",
        "\n",
        "even_numbers = []\n",
        "\n",
        "# Iterate through the student_number list\n",
        "for x in student_number:\n",
        "    if x % 2 == 0:\n",
        "        even_numbers.append(x)\n",
        "\n",
        "print(\"even: \", even_numbers)\n",
        "even_numbers.sort()\n",
        "\n",
        "odd_numbers = []\n",
        "\n",
        "# Iterate through the student_number list\n",
        "for x in student_number:\n",
        "    if x % 2 != 0:\n",
        "        odd_numbers.append(x)\n",
        "\n",
        "print(\"odd: \", odd_numbers)\n",
        "odd_numbers.sort(reverse=True)\n",
        "\n",
        "\n",
        "sorted_student_number = even_numbers + odd_numbers\n",
        "\n",
        "print(sorted_student_number)\n"
      ]
    }
  ],
  "metadata": {
    "colab": {
      "include_colab_link": true,
      "provenance": []
    },
    "kernelspec": {
      "display_name": "Python 3",
      "language": "python",
      "name": "python3"
    },
    "language_info": {
      "codemirror_mode": {
        "name": "ipython",
        "version": 3
      },
      "file_extension": ".py",
      "mimetype": "text/x-python",
      "name": "python",
      "nbconvert_exporter": "python",
      "pygments_lexer": "ipython3",
      "version": "3.11.4"
    },
    "orig_nbformat": 4
  },
  "nbformat": 4,
  "nbformat_minor": 0
}
